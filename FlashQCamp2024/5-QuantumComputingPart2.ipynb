{
  "nbformat": 4,
  "nbformat_minor": 0,
  "metadata": {
    "colab": {
      "provenance": []
    },
    "kernelspec": {
      "name": "python3",
      "display_name": "Python 3"
    },
    "language_info": {
      "name": "python"
    }
  },
  "cells": [
    {
      "cell_type": "markdown",
      "source": [
        "# Quantum Computing Part 2"
      ],
      "metadata": {
        "id": "xv-Ory8d1mhS"
      }
    },
    {
      "cell_type": "code",
      "execution_count": 1,
      "metadata": {
        "colab": {
          "base_uri": "https://localhost:8080/",
          "height": 863
        },
        "collapsed": true,
        "id": "XNnrBaJQ1B0r",
        "outputId": "a35fbf81-7cb8-478d-d186-783066ddc895"
      },
      "outputs": [
        {
          "output_type": "stream",
          "name": "stdout",
          "text": [
            "Collecting qibo\n",
            "  Downloading qibo-0.2.8-py3-none-any.whl (256 kB)\n",
            "\u001b[2K     \u001b[90m━━━━━━━━━━━━━━━━━━━━━━━━━━━━━━━━━━━━━━━━\u001b[0m \u001b[32m256.4/256.4 kB\u001b[0m \u001b[31m3.7 MB/s\u001b[0m eta \u001b[36m0:00:00\u001b[0m\n",
            "\u001b[?25hCollecting cma<4.0.0,>=3.3.0 (from qibo)\n",
            "  Downloading cma-3.3.0-py3-none-any.whl (260 kB)\n",
            "\u001b[2K     \u001b[90m━━━━━━━━━━━━━━━━━━━━━━━━━━━━━━━━━━━━━━━━\u001b[0m \u001b[32m260.7/260.7 kB\u001b[0m \u001b[31m23.1 MB/s\u001b[0m eta \u001b[36m0:00:00\u001b[0m\n",
            "\u001b[?25hRequirement already satisfied: hyperopt<0.3.0,>=0.2.7 in /usr/local/lib/python3.10/dist-packages (from qibo) (0.2.7)\n",
            "Requirement already satisfied: joblib<2.0.0,>=1.2.0 in /usr/local/lib/python3.10/dist-packages (from qibo) (1.4.2)\n",
            "Requirement already satisfied: networkx<4.0.0,>=3.2.1 in /usr/local/lib/python3.10/dist-packages (from qibo) (3.3)\n",
            "Collecting numpy<2.0.0,>=1.26.4 (from qibo)\n",
            "  Downloading numpy-1.26.4-cp310-cp310-manylinux_2_17_x86_64.manylinux2014_x86_64.whl (18.2 MB)\n",
            "\u001b[2K     \u001b[90m━━━━━━━━━━━━━━━━━━━━━━━━━━━━━━━━━━━━━━━━\u001b[0m \u001b[32m18.2/18.2 MB\u001b[0m \u001b[31m34.8 MB/s\u001b[0m eta \u001b[36m0:00:00\u001b[0m\n",
            "\u001b[?25hCollecting openqasm3[parser]>=0.5.0 (from qibo)\n",
            "  Downloading openqasm3-0.5.0-py3-none-any.whl (524 kB)\n",
            "\u001b[2K     \u001b[90m━━━━━━━━━━━━━━━━━━━━━━━━━━━━━━━━━━━━━━━━\u001b[0m \u001b[32m524.0/524.0 kB\u001b[0m \u001b[31m26.0 MB/s\u001b[0m eta \u001b[36m0:00:00\u001b[0m\n",
            "\u001b[?25hRequirement already satisfied: scipy<2.0.0,>=1.10.1 in /usr/local/lib/python3.10/dist-packages (from qibo) (1.11.4)\n",
            "Collecting setuptools<70.0.0,>=69.1.1 (from qibo)\n",
            "  Downloading setuptools-69.5.1-py3-none-any.whl (894 kB)\n",
            "\u001b[2K     \u001b[90m━━━━━━━━━━━━━━━━━━━━━━━━━━━━━━━━━━━━━━━━\u001b[0m \u001b[32m894.6/894.6 kB\u001b[0m \u001b[31m34.5 MB/s\u001b[0m eta \u001b[36m0:00:00\u001b[0m\n",
            "\u001b[?25hRequirement already satisfied: sympy<2.0.0,>=1.11.1 in /usr/local/lib/python3.10/dist-packages (from qibo) (1.12.1)\n",
            "Requirement already satisfied: tabulate<0.10.0,>=0.9.0 in /usr/local/lib/python3.10/dist-packages (from qibo) (0.9.0)\n",
            "Requirement already satisfied: six in /usr/local/lib/python3.10/dist-packages (from hyperopt<0.3.0,>=0.2.7->qibo) (1.16.0)\n",
            "Requirement already satisfied: future in /usr/local/lib/python3.10/dist-packages (from hyperopt<0.3.0,>=0.2.7->qibo) (0.18.3)\n",
            "Requirement already satisfied: tqdm in /usr/local/lib/python3.10/dist-packages (from hyperopt<0.3.0,>=0.2.7->qibo) (4.66.4)\n",
            "Requirement already satisfied: cloudpickle in /usr/local/lib/python3.10/dist-packages (from hyperopt<0.3.0,>=0.2.7->qibo) (2.2.1)\n",
            "Requirement already satisfied: py4j in /usr/local/lib/python3.10/dist-packages (from hyperopt<0.3.0,>=0.2.7->qibo) (0.10.9.7)\n",
            "Collecting antlr4-python3-runtime<4.14,>=4.7 (from openqasm3[parser]>=0.5.0->qibo)\n",
            "  Downloading antlr4_python3_runtime-4.13.1-py3-none-any.whl (144 kB)\n",
            "\u001b[2K     \u001b[90m━━━━━━━━━━━━━━━━━━━━━━━━━━━━━━━━━━━━━━━━\u001b[0m \u001b[32m144.5/144.5 kB\u001b[0m \u001b[31m11.9 MB/s\u001b[0m eta \u001b[36m0:00:00\u001b[0m\n",
            "\u001b[?25hRequirement already satisfied: mpmath<1.4.0,>=1.1.0 in /usr/local/lib/python3.10/dist-packages (from sympy<2.0.0,>=1.11.1->qibo) (1.3.0)\n",
            "Installing collected packages: openqasm3, antlr4-python3-runtime, setuptools, numpy, cma, qibo\n",
            "  Attempting uninstall: setuptools\n",
            "    Found existing installation: setuptools 67.7.2\n",
            "    Uninstalling setuptools-67.7.2:\n",
            "      Successfully uninstalled setuptools-67.7.2\n",
            "  Attempting uninstall: numpy\n",
            "    Found existing installation: numpy 1.25.2\n",
            "    Uninstalling numpy-1.25.2:\n",
            "      Successfully uninstalled numpy-1.25.2\n",
            "\u001b[31mERROR: pip's dependency resolver does not currently take into account all the packages that are installed. This behaviour is the source of the following dependency conflicts.\n",
            "ipython 7.34.0 requires jedi>=0.16, which is not installed.\u001b[0m\u001b[31m\n",
            "\u001b[0mSuccessfully installed antlr4-python3-runtime-4.13.1 cma-3.3.0 numpy-1.26.4 openqasm3-0.5.0 qibo-0.2.8 setuptools-69.5.1\n"
          ]
        },
        {
          "output_type": "display_data",
          "data": {
            "application/vnd.colab-display-data+json": {
              "pip_warning": {
                "packages": [
                  "_distutils_hack",
                  "pkg_resources",
                  "setuptools"
                ]
              },
              "id": "39df971780f34f6c945d26b6953a3fe9"
            }
          },
          "metadata": {}
        }
      ],
      "source": [
        "pip install qibo"
      ]
    },
    {
      "cell_type": "code",
      "source": [
        "import qibo\n",
        "import logging\n",
        "\n",
        "logger = logging.getLogger(\"qibo\")\n",
        "logger.setLevel(logging.CRITICAL)"
      ],
      "metadata": {
        "id": "SpeQVWu01RMp"
      },
      "execution_count": 1,
      "outputs": []
    },
    {
      "cell_type": "markdown",
      "source": [
        "Now that you are familiar with qubits, gates and measurements, we will move on to map quantum computing to a physical experiment: the Mach-Zender Interferometer. This experiment is instrumental in demonstrating fundamental principles of quantum mechanics.\n",
        "\n",
        "\n",
        "In this lesson, you will learn\n",
        "- Basic optical interferometry\n",
        "- How to set up a Mach-Zender Interferometer using Qibo\n",
        "\n",
        "# Gate Reference\n",
        "These are the available gates that we have covered in the previous lesson.\n",
        "\n",
        "```python\n",
        "gates.X(0)\n",
        "```\n",
        "\n",
        "$X = \\begin{bmatrix} 0 & 1 \\\\ 1 & 0 \\end{bmatrix}$\n",
        "\n",
        "```python\n",
        "gates.Y(0)\n",
        "```\n",
        "\n",
        "$Y = \\begin{bmatrix} 0 & -i \\\\ i & 0 \\end{bmatrix}$\n",
        "\n",
        "```python\n",
        "gates.Z(0)\n",
        "```\n",
        "\n",
        "$Z = \\begin{bmatrix} 1 & 0 \\\\ 0 & -1 \\end{bmatrix}$\n",
        "\n",
        "\n",
        "```python\n",
        "gates.H(0)\n",
        "```\n",
        "$H = \\frac{1}{\\sqrt{2}}\\begin{bmatrix} 1 & 1 \\\\ 1 & -1 \\end{bmatrix}$\n",
        "\n",
        "```python\n",
        "gates.M(0)\n",
        "```\n",
        "The measure gate that \"collapses\" the qubit to either $|0⟩$ state and the $|1⟩$ state."
      ],
      "metadata": {
        "id": "O-16Z26z1iXG"
      }
    },
    {
      "cell_type": "markdown",
      "source": [
        "# Optical Qubits/Photons\n",
        "\n",
        "Before we jump into using Qibo and solving the problem, let's study the physical picture.\n",
        "\n",
        "We have travelling photons generated from a laser and a photodetector that counts the number of photons arrives at it.\n",
        "\n",
        "![pic1.png](data:image/png;base64,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)\n",
        "\n",
        "\n",
        "The detector detects the path of the qubit. In this case, it is the $→$ path.\n",
        "\n",
        "There are also optical elements., such as mirrors.\n",
        "\n",
        "When we place these mirrors in 45$°$ orientations, the path of the laser beam changes from $↑$ to $↓$\n",
        "\n",
        "![pic1.png](data:image/png;base64,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)\n",
        "\n",
        "The → and $↑$ paths of the photons are orthogonal. Hence, we can map these paths into qubit states.\n",
        "\n",
        "$|→⟩ = |0⟩ = \\begin{bmatrix} 1 \\\\ 0 \\end{bmatrix}$\n",
        "\n",
        "$|↑⟩ = |1⟩ = \\begin{bmatrix} 0 \\\\ 1 \\end{bmatrix}$"
      ],
      "metadata": {
        "id": "sL7ipuCX2eDW"
      }
    },
    {
      "cell_type": "markdown",
      "source": [
        "# Exercise 1\n",
        "Design a quantum circuit that emulates the above optical setup"
      ],
      "metadata": {
        "id": "AIKd0Bhb7nWs"
      }
    },
    {
      "cell_type": "code",
      "source": [
        "from qibo import gates, Circuit\n",
        "\n",
        "circ = Circuit(1)\n",
        "xgate = gates.X(0)\n",
        "ygate = gates.Y(0)\n",
        "zgate = gates.Z(0)\n",
        "hadamard_gate = gates.H(0)\n",
        "measure_gate = gates.M(0)\n",
        "\n",
        "circ.add(xgate)\n",
        "circ.add(measure_gate)\n",
        "\n",
        "results = circ(nshots=100)\n",
        "print(\"P(|0>):\", round(results.probabilities()[0], 3))\n",
        "print(\"P(|1>):\", round(results.probabilities()[1], 3))"
      ],
      "metadata": {
        "colab": {
          "base_uri": "https://localhost:8080/"
        },
        "id": "a1rC3cOR7tTR",
        "outputId": "1b38117b-0586-4320-f424-143022e4e915"
      },
      "execution_count": 2,
      "outputs": [
        {
          "output_type": "stream",
          "name": "stderr",
          "text": [
            "[Qibo 0.2.8|INFO|2024-06-20 13:58:43]: Using tensorflow backend on /device:CPU:0\n",
            "INFO:qibo.config:Using tensorflow backend on /device:CPU:0\n"
          ]
        },
        {
          "output_type": "stream",
          "name": "stdout",
          "text": [
            "P(|0>): tf.Tensor(0.0, shape=(), dtype=float64)\n",
            "P(|1>): tf.Tensor(1.0, shape=(), dtype=float64)\n"
          ]
        }
      ]
    },
    {
      "cell_type": "markdown",
      "source": [
        "Another optical element is the beamsplitter.\n",
        "\n",
        "![pic1.png](data:image/png;base64,iVBORw0KGgoAAAANSUhEUgAAAk4AAAEgCAYAAABCT/xCAAAAAXNSR0IArs4c6QAAAARnQU1BAACxjwv8YQUAAAAJcEhZcwAAEnQAABJ0Ad5mH3gAAA9hSURBVHhe7d1XiCTVHsDhM+acUTG7i2IARRQUEURQQd3da3gwIGbxQUQUjPigGFExiwHjm+HF3b0qiiiImMWsoO6KOSuimHXvnrLnOvb27Pxnpqq7quv7oNhep6dnpruqz2/PqSlHFi2WAACY0DKdPwEAmIBwAgAIEk4AAEHCCQAgSDgBAAQJJwCAIOEEABAknAAAgoQTAECQcAIACBJOAABBwgkAIEg4AQAECScAgCDhBAAQJJwAAIKEEwBAkHACAAgSTgAAQcIJACBIOAEABAknAIAg4QQAECScAACChBMAQJBwAgAIEk4AAEHCCQAgSDgBAAQJJwCAIOEEABAknAAAgoQTAECQcAIACBJOAABBI4sW69wGgIEYGRnp3OrNUEVdCCcABmKiWBqPYYtBEk4A9NVUg6mb4YtBEE4A9M3Somm84WgqnwNVEU4A9EWvAJrsEFTGY8B0CCcAKtcdPNMdesp+PIhyOQIAKlVF5HQ/Rq+ZKKiCcAKgMlXODIknBkE4AVCJfiyniSf6TTgBULkqomlUlY8N3YQTAKUb5MyPWSeqJJwAqFQ/ZoTMOtEvwgkAIEg4AVCqQS2VjZ11slxHVYQTAJWxhMawEU4AAEHCCQAgSDgBAAQJJwCAIOEEABAknACojMsCMGyEEwClGtQlCMZGmssgUBXhBAAQJJwAqFQ/lussCdIvwgmA0g1yqcwyHVUSTgBUrsoZIbNN9JNwAqAS3TM/VQRO92OabaJqwgmAylQZT6KJQRBOAFSqiniqYvYKIkYW79ASHYDK9YqdyQ5B4wWToYx+EU4A9M1Uw0cwURfCCYC+KmuZzfDFIAgnAAZiqgFl2GKQhBMAAzdRRBmqqAvhBECtzJw3u3MrpQVz5nduQT24HAEAQJBwAgAIEk4AAEHCCQAgSDgBAAQJJwCAIOEEABAknAAAgoQTAECQcAIACBJOAABBwgkAIEg4AQAECScAgCDhBAAQJJwAAIKEEwBAkHACAAgSTgAAQcIJACBIOAEABAknAIAg4QQAECScAACChBMAQJBwAgAIEk4AAEHCCQAgSDgBAAQJJwCAIOEEABAknAAAgoQTAECQcAIACBpZtFjnNgBMysjISOdWsxj6mCozTgAAQcIJACDIUh0AUzZ2qa6s4WTmvNmdWyktmDO/c2tqxltKNPQxVWacABhKTT3/inoTTjBk8mAxukFb2f+pinCCIWKwgN7HQZuW5kb/4TTexvQIJxgS3hChvdE0mTCazH1ZknCCIdDrDdDJr7RNG4+D6QbQdD+/jYQTNFwbBwvo1sbjYGnBk3/2Xtt4xFOccIIGE02w5HEwUSQMg/GO/Yl+9qXdRzzFCCdoKNEEvaNp2JUVir0+TzxNTDhBA4kmEE1ZGT+zeJoc4QQN0+uNUzTRNqKp3J9ZPMUJJ2iQNg4W0E00VfMzi6cY4QQNIZrAcZBV+TN7X5mYcIIGMFhAe4+DQc78DPJr15VwgpoTTeA4GNWPn9t7zNIJJ6gxgwU4DqgX4QQ1ZbAAx0H3z98vY5/nQX0PdSWcoIZEE6S08D//7dz6W9uPA+8D9SCcoGZEE4gm6mtk8c5ob4Sa6I6mGXNndW5BPY0NnLL21+5oquJxm3Jsjf2e+z1cj30/kgr/MOMENSGaoLpogrIIJ6gB0QSiiWawVAcD1uucppnzZnf+ltKCOfM7t6B+ylrOGe8fD2Xu/2V9r/00yO+5ic9XP5hxggHqHiy8OdFG40UT/9b9PDEYwgkGRDSB42Aig3o+xr4uXpN/E04wAAYLcBzQTMIJ+sxgAY6Dqep+3qrQj6/RZMIJ+shgAY6DyRrk8+O1WZJwgj4xWIDjoAxVzghV+djDQjhBHxgswHEwHd3PVRWB4/WJEU5QofxG5M0IDMplqDKevD5xwgkq0utNzZsRbWRQLk8V8VRmgLWBcII+MVjQRqKpfL3iaSrxM97neY2WTjhBH3gjoo1EU3V6PZfRgFpaMHmNJiacoCKjb0LeiGgj0VS98Z7T0TAab+vF6xMnnAAoVffgbFCuTn5up/P8Tvfz20g4AVAa0TQYowEUeb4nc1+WJJwAKIVoqoexYdRrY3qEEwClM0AzrEYW79z2bqiZmfNmd26ltGDO/M4tqJ/xTjauO0MfU2XGCQAgSDgBAAQJJwCmLC95lb3NmDvr/1uvj5exwVQJJwCAIOEEABAknAAAgoQTAECQcAIACBJOAABBwgkAIEg4AQAECScAgCDhBAAQJJwAAIKEEwBAkHACAAgSTgAAQcIJACBIOAEABAknAIAg4QQAECScAACChBMAQJBwAgAIEk4AAEHCCQAgSDgBAAQJJwCAIOEEABAknAAAgoQTAECQcAIACBJOAABBwgkAIEg4AQAECScAgCDhBAAQJJwAAIKEEwBAkHACAAgSTgAAQcIJACBIOAEABAknAIAg4QQAECScAACChBMAQJBwAgAIEk4AAEHCCQAgSDgBAAQJJwCAIOEEABAknAAAgoQTAECQcAIACBJOAABBwgkAIEg4AQAECScAgCDhBAAQJJwAAIKEEwBAkHACAAgSTgAAQcIJACBIOAEABAknAIAg4QQAECScAACChBMAQJBwAgAIEk4AAEHCCQAgSDgBAAQJJwCAIOEEABAknAAAgoQTAECQcAIACBJOAABBwgkAIEg4AQAECSeYppGRkdK3sXp9vIwNhpX9nCqVFk5jd1RbdRsAMDhmnAAYGv6BSdWEE5Ro0aJFpWxj9fr4ZDZoi+5osv9ThUrCqfuN2za9DabKv75pC9FEv5hxgiElmmgL0UQ/CScYQr2iyWBCG9jPqZpwgiEjmmgTM6v0m3CCISKaaBNLdAyCcIIhIZpoE9HEoAgnGAK9BhEDCcNKNDFIwgkaziBCm9jfGTThBA1mEAHoL+EEDSWaaBv7PHUgnKCBDCC0jX2euhBO0DAGENrGPk+d1DacXnzxxXTMMcek2267Lf3www+d/wrtZgChbezz1E1tw+mLL75ITz/9dHr77bfTb7/91vmv0F4GENrOPk8d1Dac/vrrr+IgyX9C24kmgHpo9DlOv/zyS3rqqafSpZdemk488cR05JFHpssvvzy99dZb6Y8//ujcK6Xff/+9mL0644wziuW/8847L7300kvpzz//7NzjbwsXLkzXXnttOu6449Lxxx+fbr755vT+++///375z8cffzxdeOGFxX3nzp2bTjrppHTFFVekL7/8srgPlE00gf2e+mh0OF133XXp9NNPT/fff3/64IMPisi55ZZbijB67bXXigMtB9TDDz+czjrrrDR//vz04YcfpkceeSRdeeWVxe0sB9Fzzz2XTj755HTHHXcUj/XGG28UEXXOOeekl19+ubhP3t588830wAMPpEsuuaQIqAcffDA99NBDwom+MHjQRvZ76mRk8Q5Zyh459l/FZTxkjpwcRbNmzSpCaN111+185B+33357MZu06667pvXWW6/4uvfee2+68cYb0ymnnFJs+cTy888/v5hhuuCCC9I222yTvvnmm/TKK6+kffbZJ2288cbpnXfeSeeee2766KOP0tlnn5122mmn4ud54okn0lVXXZX233//dOaZZ6ZVV121mIW6+OKL0yqrrJKOPfbYtPfee6cVV1wxbb311mmNNdbofGflmjlvducWQLssmDO/cwvqodEzTocffng6+uij04477pg23XTTtNlmm6V99903LbvsssWs0U8//VTMOH3//fdFVK2++uppo402SjvssEM69NBD04YbblicQ/Xss8+mZ555Jh1yyCFpr732SltssUXafPPNi2jbfvvt07vvvpu+/vrrzlf9e+nvwAMPTCeccELabbfditDKjw0ADLdGh1Oe9cnnOeWlt7x0lmeF8mzTt99+W/wmXo6itdZaK+2yyy7Fstypp56abrjhhmJmKc8S5cD6+eef03vvvZe+++679MILLxSzSflx8pZv52hasGDBv8Ip23PPPYsIy4+Rt+7zUACA4dPYpbp8vlEOpuuvv75YesvLaKMhlM9JOuqoo4qYWnvttdPnn39enIuUl/G++uqrYkktP24+UXyllVZKl112WbrmmmvSdtttV4TWWL/++muxvJdPLM+zUHmpLi/93X333WnOnDmde1Wr7OeWcpX5+nQHeNmvt32Juqp634eyNHbG6eOPPy4iJs8G5eW6PJN01113Fb9Vt8EGG3Tu9ffBmJfkjjjiiHTTTTcVJ3vnCMv3z+GVZ6aWX3754n75nKh83lSOotHtnnvuKX5rb8aMGZ1HhGoYOGgr+z5N0thwyhfI/OSTT9KWW26ZDjjggGK2aJNNNklrrrlmWmaZf/9Y+aDMy3ozZ85MBx10UDrssMOK2al8gnhezstLbiuvvHKxhJdnnPIJ42O3fOL5csst13k0KJ+Bg7ay79M0tQ+nH3/8MX366adFJI1u+XyjvDSXT8jOsZOvLp5D6tVXX01XX311sRw3Kn88n6v05JNPFp+XP5YvW5BP8N52223Taqutlnbfffe08847F5ciuO+++4rzofJ986xWvlZTnpnKS4BQBQMHbWXfp4lqe47To48+mk477bQimtZZZ51ihmjUHnvskS666KI0b9684v9ll39zbv311y/Oe8onfecLYM6ePbu4/EA+eTyH0+uvv17MKuXvLf+WXf5NuHxtp/wbdPnzcxzla0Dl86Hy/XKU5c9dYYUV0sEHH1ws9eUlvVtvvbU4x+nOO+8svkY/lP3cUq7pvD79HjjsS9SJ/ZEmqm045Zmlxx57rAiZbqPLczl4nn/++eI6TPl2Ppdpq622Kv6ez3PKM0k5uPIMUz5h/LPPPiu+z7ykl2eY8iUMRpf18kng+Wrg+cKX+Wvmx8vLfvncprwMOHqdqHxhzXwV8v32269v5z15c6m3qb4+Yz8v68dra1+iLgax/0MZahtO/MNzW29TeX0GNWjYl6iDQe3/UIbGnhwOTWXQoM3s/zSdcII+MmjQZvZ/hoFwgj4xaMA/7P80lXCCPhBNtF33MQBNJZygYqKJtnMMMEyEE1TIgEHbOQYYNsIJKmLAoO0cAwwj4QQVMGDQdo4BhpVwgpIZMACGl3CCEokmWJLjgGEinKAiBgvaLO//oxsME/+vugbw3NZb9yxTU9iXACavknCiOga7+hFOAO1hqQ4AIMiMU8OYJQCAwSktnAAAhp2lOgCAIOEEABAknAAAgoQTAECQcAIACBJOAABBwgkAIEg4AQAECScAgCDhBAAQktL/AN9p9vWeQxy2AAAAAElFTkSuQmCC)\n",
        "\n",
        "This setup is known as a simplified Mach-Zender interferometer and it measures if the phase shift between the 2 initially split beams."
      ],
      "metadata": {
        "id": "lvfi0gdl8bmL"
      }
    },
    {
      "cell_type": "markdown",
      "source": [
        "# Exercise 3\n",
        "\n",
        "Predict the measurement probability at each state."
      ],
      "metadata": {
        "id": "6dTWeAw39owH"
      }
    },
    {
      "cell_type": "code",
      "source": [
        "from qibo import gates, Circuit\n",
        "\n",
        "circ = Circuit(1)\n",
        "xgate = gates.X(0)\n",
        "ygate = gates.Y(0)\n",
        "zgate = gates.Z(0)\n",
        "hadamard_gate = gates.H(0)\n",
        "measure_gate = gates.M(0)\n",
        "\n",
        "circ.add(hadamard_gate)     # first beam splitter\n",
        "circ.add(xgate)             # mirror flip\n",
        "circ.add(hadamard_gate)     # second beam splitter\n",
        "circ.add(measure_gate)\n",
        "\n",
        "results = circ(nshots=100)\n",
        "print(\"P(|0>):\", round(results.probabilities()[0], 3))\n",
        "print(\"P(|1>):\", round(results.probabilities()[1], 3))"
      ],
      "metadata": {
        "colab": {
          "base_uri": "https://localhost:8080/"
        },
        "id": "QW9s8sYL95cj",
        "outputId": "8debb4b9-a179-487f-c272-2b25199527bf"
      },
      "execution_count": 3,
      "outputs": [
        {
          "output_type": "stream",
          "name": "stdout",
          "text": [
            "P(|0>): tf.Tensor(1.0, shape=(), dtype=float64)\n",
            "P(|1>): tf.Tensor(0.0, shape=(), dtype=float64)\n"
          ]
        }
      ]
    },
    {
      "cell_type": "markdown",
      "source": [
        "The first beam splitter creates a superposition of the $|→⟩$ and the $|↑⟩$ states.\n",
        "\n",
        "$H|→⟩ = \\frac{1}{\\sqrt{2}}(|→⟩ + |↑⟩)$\n",
        "\n",
        "Next, the mirror flips the $|→⟩$ and the $|↑⟩$ states, but since they have the same probability amplitude, there is no effect.\n",
        "\n",
        "$X\\frac{1}{\\sqrt{2}}(|→⟩ + |↑⟩) = \\frac{1}{\\sqrt{2}}(|→⟩ + |↑⟩)$\n",
        "\n",
        "Finally, the second beam-splitter acts on the superposition state.\n",
        "\n",
        "$H\\frac{1}{\\sqrt{2}}(|→⟩ + |↑⟩) = |→⟩$\n",
        "\n",
        "Because the path lengths are equal, there is naturally no phase shift between the two beams and they recombine to give us the initial state.\n",
        "\n",
        "What happens if there is a path difference in the two paths?\n",
        "\n",
        "![pic1.png](data:image/png;base64,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)\n",
        "\n",
        "Here, we have placed a piece of glass. The speed of lght in the glass is reduced, which causes the path length of the two beams to differ. For convenience's sake, we say that this imparts a phase shift of $-1$ on the $|↑⟩$ state."
      ],
      "metadata": {
        "id": "hCz3FCGx-bUj"
      }
    },
    {
      "cell_type": "markdown",
      "source": [
        "# Exercise 4\n",
        "\n",
        "Create a quantum circuit that emulates the above optical experiment and check if the results agree with your expectations"
      ],
      "metadata": {
        "id": "MD-W0Z-RAzkY"
      }
    },
    {
      "cell_type": "code",
      "source": [
        "from qibo import gates, Circuit\n",
        "\n",
        "circ = Circuit(1)\n",
        "xgate = gates.X(0)\n",
        "ygate = gates.Y(0)\n",
        "zgate = gates.Z(0)\n",
        "hadamard_gate = gates.H(0)\n",
        "measure_gate = gates.M(0)\n",
        "\n",
        "circ.add(hadamard_gate)\n",
        "circ.add(xgate)\n",
        "circ.add(zgate)\n",
        "#### instead of x then z, we can do y gate, since cross product of x and z gives y\n",
        "circ.add(hadamard_gate)\n",
        "circ.add(measure_gate)\n",
        "\n",
        "results = circ(nshots=100)\n",
        "print(\"P(|0>):\", round(results.probabilities()[0], 3))\n",
        "print(\"P(|1>):\", round(results.probabilities()[1], 3))"
      ],
      "metadata": {
        "colab": {
          "base_uri": "https://localhost:8080/"
        },
        "id": "3zTKAY-XBCCL",
        "outputId": "bd29bba9-7587-4a34-a840-1526bad8e677"
      },
      "execution_count": 5,
      "outputs": [
        {
          "output_type": "stream",
          "name": "stdout",
          "text": [
            "P(|0>): tf.Tensor(0.0, shape=(), dtype=float64)\n",
            "P(|1>): tf.Tensor(1.0, shape=(), dtype=float64)\n"
          ]
        }
      ]
    },
    {
      "cell_type": "markdown",
      "source": [
        "# Conclusion\n",
        "In this lesson, you have used single qubit gates in a quantum circuit to emulate an interferometer.\n",
        "- Qubit state - Path of the beam\n",
        "- X gate - Mirror\n",
        "- E gate - Beam splitter\n",
        "- M gate - Detectors\n",
        "- ? gate - Glass\n",
        "\n",
        "You have applied the $H$ gates to create superposition of states and to also measure in the superposition basis. Here, we have only used the superposition property of quantum mechanics for single qubit quantum computing."
      ],
      "metadata": {
        "id": "lO4uF-aVBfKT"
      }
    }
  ]
}
