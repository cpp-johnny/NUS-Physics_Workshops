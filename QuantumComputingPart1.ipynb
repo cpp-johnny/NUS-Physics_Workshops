{
  "nbformat": 4,
  "nbformat_minor": 0,
  "metadata": {
    "colab": {
      "provenance": []
    },
    "kernelspec": {
      "name": "python3",
      "display_name": "Python 3"
    },
    "language_info": {
      "name": "python"
    }
  },
  "cells": [
    {
      "cell_type": "markdown",
      "source": [
        "# Basics of Quantum computing using Qibo framework\n",
        "We will cover some basics of quantum computing and how to use the Qibo framework. Qibo is a Python-based framework designed for quantum simulation and hardware control. It shares a lot of commonalities with other quantum-based programming tools like Qiskit and Cirq, so the knowledge here is transferrable.\n",
        "\n",
        "In this lesson, you will learn\n",
        "- How to use Qibo\n",
        "- Basic quantum logic gates\n",
        "- Measurement and results from a quantum program\n",
        "\n",
        "In a program, we request for memory and apply operations on said memory to perform computations. For quantum programing, we use qubits as our \"memory\" to perform computations.\n",
        "\n",
        "To begin, we will explore the foundation of a quantum program: a **Quantum Circuit.**"
      ],
      "metadata": {
        "id": "F8KAWiXXbeSj"
      }
    },
    {
      "cell_type": "code",
      "source": [
        "pip install qibo"
      ],
      "metadata": {
        "colab": {
          "base_uri": "https://localhost:8080/",
          "height": 863
        },
        "collapsed": true,
        "id": "qs61vrI9bfsS",
        "outputId": "6c15858e-49dc-44f1-d765-c05732aa6e21"
      },
      "execution_count": 1,
      "outputs": [
        {
          "output_type": "stream",
          "name": "stdout",
          "text": [
            "Collecting qibo\n",
            "  Downloading qibo-0.2.8-py3-none-any.whl (256 kB)\n",
            "\u001b[2K     \u001b[90m━━━━━━━━━━━━━━━━━━━━━━━━━━━━━━━━━━━━━━━━\u001b[0m \u001b[32m256.4/256.4 kB\u001b[0m \u001b[31m1.0 MB/s\u001b[0m eta \u001b[36m0:00:00\u001b[0m\n",
            "\u001b[?25hCollecting cma<4.0.0,>=3.3.0 (from qibo)\n",
            "  Downloading cma-3.3.0-py3-none-any.whl (260 kB)\n",
            "\u001b[2K     \u001b[90m━━━━━━━━━━━━━━━━━━━━━━━━━━━━━━━━━━━━━━━━\u001b[0m \u001b[32m260.7/260.7 kB\u001b[0m \u001b[31m12.7 MB/s\u001b[0m eta \u001b[36m0:00:00\u001b[0m\n",
            "\u001b[?25hRequirement already satisfied: hyperopt<0.3.0,>=0.2.7 in /usr/local/lib/python3.10/dist-packages (from qibo) (0.2.7)\n",
            "Requirement already satisfied: joblib<2.0.0,>=1.2.0 in /usr/local/lib/python3.10/dist-packages (from qibo) (1.4.2)\n",
            "Requirement already satisfied: networkx<4.0.0,>=3.2.1 in /usr/local/lib/python3.10/dist-packages (from qibo) (3.3)\n",
            "Collecting numpy<2.0.0,>=1.26.4 (from qibo)\n",
            "  Downloading numpy-1.26.4-cp310-cp310-manylinux_2_17_x86_64.manylinux2014_x86_64.whl (18.2 MB)\n",
            "\u001b[2K     \u001b[90m━━━━━━━━━━━━━━━━━━━━━━━━━━━━━━━━━━━━━━━━\u001b[0m \u001b[32m18.2/18.2 MB\u001b[0m \u001b[31m39.4 MB/s\u001b[0m eta \u001b[36m0:00:00\u001b[0m\n",
            "\u001b[?25hCollecting openqasm3[parser]>=0.5.0 (from qibo)\n",
            "  Downloading openqasm3-0.5.0-py3-none-any.whl (524 kB)\n",
            "\u001b[2K     \u001b[90m━━━━━━━━━━━━━━━━━━━━━━━━━━━━━━━━━━━━━━━━\u001b[0m \u001b[32m524.0/524.0 kB\u001b[0m \u001b[31m27.7 MB/s\u001b[0m eta \u001b[36m0:00:00\u001b[0m\n",
            "\u001b[?25hRequirement already satisfied: scipy<2.0.0,>=1.10.1 in /usr/local/lib/python3.10/dist-packages (from qibo) (1.11.4)\n",
            "Collecting setuptools<70.0.0,>=69.1.1 (from qibo)\n",
            "  Downloading setuptools-69.5.1-py3-none-any.whl (894 kB)\n",
            "\u001b[2K     \u001b[90m━━━━━━━━━━━━━━━━━━━━━━━━━━━━━━━━━━━━━━━━\u001b[0m \u001b[32m894.6/894.6 kB\u001b[0m \u001b[31m19.7 MB/s\u001b[0m eta \u001b[36m0:00:00\u001b[0m\n",
            "\u001b[?25hRequirement already satisfied: sympy<2.0.0,>=1.11.1 in /usr/local/lib/python3.10/dist-packages (from qibo) (1.12.1)\n",
            "Requirement already satisfied: tabulate<0.10.0,>=0.9.0 in /usr/local/lib/python3.10/dist-packages (from qibo) (0.9.0)\n",
            "Requirement already satisfied: six in /usr/local/lib/python3.10/dist-packages (from hyperopt<0.3.0,>=0.2.7->qibo) (1.16.0)\n",
            "Requirement already satisfied: future in /usr/local/lib/python3.10/dist-packages (from hyperopt<0.3.0,>=0.2.7->qibo) (0.18.3)\n",
            "Requirement already satisfied: tqdm in /usr/local/lib/python3.10/dist-packages (from hyperopt<0.3.0,>=0.2.7->qibo) (4.66.4)\n",
            "Requirement already satisfied: cloudpickle in /usr/local/lib/python3.10/dist-packages (from hyperopt<0.3.0,>=0.2.7->qibo) (2.2.1)\n",
            "Requirement already satisfied: py4j in /usr/local/lib/python3.10/dist-packages (from hyperopt<0.3.0,>=0.2.7->qibo) (0.10.9.7)\n",
            "Collecting antlr4-python3-runtime<4.14,>=4.7 (from openqasm3[parser]>=0.5.0->qibo)\n",
            "  Downloading antlr4_python3_runtime-4.13.1-py3-none-any.whl (144 kB)\n",
            "\u001b[2K     \u001b[90m━━━━━━━━━━━━━━━━━━━━━━━━━━━━━━━━━━━━━━━━\u001b[0m \u001b[32m144.5/144.5 kB\u001b[0m \u001b[31m15.2 MB/s\u001b[0m eta \u001b[36m0:00:00\u001b[0m\n",
            "\u001b[?25hRequirement already satisfied: mpmath<1.4.0,>=1.1.0 in /usr/local/lib/python3.10/dist-packages (from sympy<2.0.0,>=1.11.1->qibo) (1.3.0)\n",
            "Installing collected packages: openqasm3, antlr4-python3-runtime, setuptools, numpy, cma, qibo\n",
            "  Attempting uninstall: setuptools\n",
            "    Found existing installation: setuptools 67.7.2\n",
            "    Uninstalling setuptools-67.7.2:\n",
            "      Successfully uninstalled setuptools-67.7.2\n",
            "  Attempting uninstall: numpy\n",
            "    Found existing installation: numpy 1.25.2\n",
            "    Uninstalling numpy-1.25.2:\n",
            "      Successfully uninstalled numpy-1.25.2\n",
            "\u001b[31mERROR: pip's dependency resolver does not currently take into account all the packages that are installed. This behaviour is the source of the following dependency conflicts.\n",
            "ipython 7.34.0 requires jedi>=0.16, which is not installed.\u001b[0m\u001b[31m\n",
            "\u001b[0mSuccessfully installed antlr4-python3-runtime-4.13.1 cma-3.3.0 numpy-1.26.4 openqasm3-0.5.0 qibo-0.2.8 setuptools-69.5.1\n"
          ]
        },
        {
          "output_type": "display_data",
          "data": {
            "application/vnd.colab-display-data+json": {
              "pip_warning": {
                "packages": [
                  "_distutils_hack",
                  "pkg_resources",
                  "setuptools"
                ]
              },
              "id": "ac40296339694a8a9b5eb9ba3a53f5d8"
            }
          },
          "metadata": {}
        }
      ]
    },
    {
      "cell_type": "code",
      "source": [
        "import qibo\n",
        "import logging\n",
        "\n",
        "logger = logging.getLogger(\"qibo\")\n",
        "logger.setLevel(logging.CRITICAL)"
      ],
      "metadata": {
        "id": "CRnmmjCDbkLv"
      },
      "execution_count": null,
      "outputs": []
    },
    {
      "cell_type": "code",
      "source": [
        "from qibo import Circuit\n",
        "circ = Circuit(nqubits=1)"
      ],
      "metadata": {
        "id": "LtEWKGcvbmNX"
      },
      "execution_count": 2,
      "outputs": []
    },
    {
      "cell_type": "markdown",
      "source": [
        "A quantum circuit defines the number of qubits we will use. By default, all qubits will be initalised in the $|0\\rangle$ state. Here, we have requested for a single qubit in our circuit.\n",
        "\n",
        "Next, lets explore the various operations we can perform on our qubit."
      ],
      "metadata": {
        "id": "HVHf8oIKcPNu"
      }
    },
    {
      "cell_type": "markdown",
      "source": [
        "# Quantum Logic Gates\n",
        "In digital logic, operations on classical bits are known as gates. An example of a gate is the NOT gate, which flips a bit from 0 to 1, and vice versa. This is the negation(!) operator in typical programing languages. The quantum equivalent of this gate is the $X$ gate, which has the following matrix representation:\n",
        "\n",
        "$X = \\begin{bmatrix} 0 & 1 \\\\ 1 & 0 \\end{bmatrix}$\n",
        "\n",
        "As a reminder, the ground and excited state of the qubit have the following representation:\n",
        "\n",
        "$|0\\rangle = \\begin{bmatrix} 1 \\\\ 0 \\end{bmatrix}$\n",
        "\n",
        "$|1\\rangle = \\begin{bmatrix} 0 \\\\ 1 \\end{bmatrix}$\n",
        "\n"
      ],
      "metadata": {
        "id": "Upgth7pydHWW"
      }
    },
    {
      "cell_type": "markdown",
      "source": [
        "# Exercise 1\n",
        "\n",
        "Apply the $X$ gate to the $|0\\rangle$ and $|1\\rangle$ states.\n",
        "\n",
        "Hint (formula for matrix multiplication):\n",
        "\n",
        "$\\begin{bmatrix} a & b \\\\ c & d \\end{bmatrix} \\begin{bmatrix} e \\\\ f \\end{bmatrix} = \\begin{bmatrix} ae & bf \\\\ ce & df \\end{bmatrix}$\n",
        "\n"
      ],
      "metadata": {
        "id": "0fDKCfdkeBoC"
      }
    },
    {
      "cell_type": "markdown",
      "source": [
        "# Applying a gate in Qibo\n",
        "Now that we know our quantum gate does exactly what we expect it to, let's apply it in the quantum circuit."
      ],
      "metadata": {
        "id": "0cwDD7JUe-5b"
      }
    },
    {
      "cell_type": "code",
      "source": [
        "from qibo import gates\n",
        "\n",
        "# Apply a X gate on qubit 0\n",
        "xgate = gates.X(0)\n",
        "circ.add(xgate)\n",
        "print(circ.draw())      # you should see a -X-, which represents an X gate"
      ],
      "metadata": {
        "colab": {
          "base_uri": "https://localhost:8080/"
        },
        "id": "RUgXxkFObn9A",
        "outputId": "ccc7454c-8690-4edc-fe5c-239be30a1c33"
      },
      "execution_count": 3,
      "outputs": [
        {
          "output_type": "stream",
          "name": "stdout",
          "text": [
            "q0: ─X─\n"
          ]
        }
      ]
    },
    {
      "cell_type": "markdown",
      "source": [
        "During circuit initalization, we requested for 1 qubit. The qubits are zero-indexed, so we will apply the X gate on qubit 0.\n",
        "\n",
        "Next, we add the gate to the circuit, which will execute added gates from first to last."
      ],
      "metadata": {
        "id": "ukvSB12JfVfX"
      }
    },
    {
      "cell_type": "markdown",
      "source": [
        "# Measurement and Results\n",
        "Now, we have a qubit and a circuit that will run an X gate, but how do we run it and what kind of results do we expect?\n",
        "\n",
        "For this, we look at the measurement or M gate, which tells the circuit to measure the specified qubit. This action collapses the qubit to either the $|0⟩$ state or the $|1⟩$ state."
      ],
      "metadata": {
        "id": "iFqVJg6qfamT"
      }
    },
    {
      "cell_type": "code",
      "source": [
        "circ = Circuit(nqubits=1)\n",
        "\n",
        "# Apply a X gate on qubit 0\n",
        "xgate = gates.X(0)\n",
        "measure_gate = gates.M(0)\n",
        "circ.add(xgate)\n",
        "\n",
        "# Do a measurement at the end for qubit 0\n",
        "circ.add(measure_gate)\n",
        "\n",
        "# Run the quantum circuit 100 times to see results\n",
        "results= circ(nshots=100)\n",
        "print(results.samples()[:,0])"
      ],
      "metadata": {
        "colab": {
          "base_uri": "https://localhost:8080/"
        },
        "id": "DoGXk_1Pf2Fr",
        "outputId": "81c4dc53-3046-46ca-cce9-fe59a61336ce"
      },
      "execution_count": 4,
      "outputs": [
        {
          "output_type": "stream",
          "name": "stderr",
          "text": [
            "[Qibo 0.2.8|INFO|2024-06-19 12:38:47]: Using tensorflow backend on /device:CPU:0\n",
            "INFO:qibo.config:Using tensorflow backend on /device:CPU:0\n"
          ]
        },
        {
          "output_type": "stream",
          "name": "stdout",
          "text": [
            "tf.Tensor(\n",
            "[1 1 1 1 1 1 1 1 1 1 1 1 1 1 1 1 1 1 1 1 1 1 1 1 1 1 1 1 1 1 1 1 1 1 1 1 1\n",
            " 1 1 1 1 1 1 1 1 1 1 1 1 1 1 1 1 1 1 1 1 1 1 1 1 1 1 1 1 1 1 1 1 1 1 1 1 1\n",
            " 1 1 1 1 1 1 1 1 1 1 1 1 1 1 1 1 1 1 1 1 1 1 1 1 1 1], shape=(100,), dtype=int32)\n"
          ]
        }
      ]
    },
    {
      "cell_type": "markdown",
      "source": [
        "As expected of applying the X gate on the $|0⟩$ state, we get a 100% probability of obtaining the $|1⟩$ state. Here, we have run the circuit 100 times. This is because each measurement outcome is dependent on the state probability amplitude.\n",
        "\n",
        "\n",
        "Hence, a single measurement may not reveal the superposition of states."
      ],
      "metadata": {
        "id": "yvlu3XimgeXy"
      }
    },
    {
      "cell_type": "markdown",
      "source": [
        "# The Hadamard Gate\n",
        "So far, what we are doing is in the realm of classical logic. It is akin to doing in Python:\n",
        "\n",
        "```python\n",
        "qubit = False\n",
        "qubit = not qubit\n",
        "```\n",
        "Let's do something more quantum with the Hadamard or H gate. It has the following representation:\n",
        "\n",
        "$H = \\frac{1}{\\sqrt{2}}\\begin{bmatrix} 1 & 1 \\\\ 1 & -1 \\end{bmatrix}$"
      ],
      "metadata": {
        "id": "SW1SDcMig3nM"
      }
    },
    {
      "cell_type": "markdown",
      "source": [
        "# Exercise 2\n",
        "1) Apply the $H$ gate on the $|0⟩$ state and calculate the expected outcome.\n",
        "\n",
        "$\\frac{1}{\\sqrt{2}}\\begin{bmatrix} 1 & 1 \\\\ 1 & -1 \\end{bmatrix} \\begin{bmatrix} 1 \\\\ 0 \\end{bmatrix} = ?$\n",
        "\n",
        "Solution:\n",
        "\n",
        "$H|0⟩ = \\frac{1}{\\sqrt{2}}\\begin{bmatrix} 1 & 1 \\\\ 1 & -1 \\end{bmatrix} \\begin{bmatrix} 1 \\\\ 0 \\end{bmatrix} = \\frac{1}{\\sqrt{2}}\\begin{bmatrix} 1 \\\\ 1 \\end{bmatrix} = |+⟩ = \\frac{1}{\\sqrt{2}} \\begin{bmatrix} |0⟩ + |1⟩  \\end{bmatrix}$\n",
        "<br> <br>\n",
        "2) Apply the $H$ gate on the $|1⟩$ state and calculate the expected outcome.\n",
        "\n",
        "$\\frac{1}{\\sqrt{2}}\\begin{bmatrix} 1 & 1 \\\\ 1 & -1 \\end{bmatrix} \\begin{bmatrix} 0 \\\\ 1 \\end{bmatrix} = ?$\n",
        "\n",
        "Solution:\n",
        "\n",
        "$H|0⟩ = \\frac{1}{\\sqrt{2}}\\begin{bmatrix} 1 & 1 \\\\ 1 & -1 \\end{bmatrix} \\begin{bmatrix} 0 \\\\ 1 \\end{bmatrix} = \\frac{1}{\\sqrt{2}}\\begin{bmatrix} 1 \\\\ -1 \\end{bmatrix} = |-⟩ = \\frac{1}{\\sqrt{2}} \\begin{bmatrix} |0⟩ -|1⟩  \\end{bmatrix}$"
      ],
      "metadata": {
        "id": "opuX90xuhZsr"
      }
    },
    {
      "cell_type": "markdown",
      "source": [
        "# Exercise 2\n",
        "\n",
        "Apply the $H$ gate on the $|0⟩$ state in Qibo:\n"
      ],
      "metadata": {
        "id": "JvUG9-1-j0YS"
      }
    },
    {
      "cell_type": "code",
      "source": [
        "from qibo import gates, Circuit\n",
        "\n",
        "circ = Circuit(1)\n",
        "hadamard_gate = gates.H(0)\n",
        "measure_gate = gates.M(0)\n",
        "\n",
        "# Add the hadamard gate and the measure gate to the circuit\n",
        "circ.add(hadamard_gate)\n",
        "circ.add(measure_gate)\n",
        "\n",
        "print(circ.draw())\n",
        "results = circ(nshots=100)\n",
        "\n",
        "print(\"P(|0>):\", round(results.probabilities()[0], 3))\n",
        "print(\"P(|1>):\", round(results.probabilities()[1], 3))"
      ],
      "metadata": {
        "colab": {
          "base_uri": "https://localhost:8080/"
        },
        "id": "BYAWiey3k98s",
        "outputId": "f59e8cdb-0ee6-462d-b714-e8699ea5e6f6"
      },
      "execution_count": 7,
      "outputs": [
        {
          "output_type": "stream",
          "name": "stdout",
          "text": [
            "q0: ─H─M─\n",
            "P(|0>): tf.Tensor(0.5, shape=(), dtype=float64)\n",
            "P(|1>): tf.Tensor(0.5, shape=(), dtype=float64)\n"
          ]
        }
      ]
    },
    {
      "cell_type": "markdown",
      "source": [
        "As expected, we have a 50% chance of measuring for each state. Let's look at the individual result of each measurement."
      ],
      "metadata": {
        "id": "MkgA7UYzmflj"
      }
    },
    {
      "cell_type": "code",
      "source": [
        "import numpy as np\n",
        "import matplotlib.pyplot as plt\n",
        "\n",
        "states = results.samples()[:, 0]\n",
        "plt.scatter(np.arange(len(states)), states, s=5)\n",
        "plt.xlabel(\"Measurement Number\")\n",
        "plt.ylabel(\"State\")\n",
        "plt.yticks([0, 1])\n",
        "plt.show()"
      ],
      "metadata": {
        "colab": {
          "base_uri": "https://localhost:8080/",
          "height": 469
        },
        "id": "88EioNWmmzRC",
        "outputId": "0950349f-e9cf-4b3c-cb26-9ee68262861d"
      },
      "execution_count": 11,
      "outputs": [
        {
          "output_type": "display_data",
          "data": {
            "text/plain": [
              "<Figure size 640x480 with 1 Axes>"
            ],
            "image/png": "[encoded data removed]"
          },
          "metadata": {}
        }
      ]
    },
    {
      "cell_type": "markdown",
      "source": [
        "Note: the outcome for each measurement is truly random (you can try to run as many times as possible, each iteration will show different results), and we require some number of measurements to properly resolve the superposition probability."
      ],
      "metadata": {
        "id": "9OvDT_yenWja"
      }
    },
    {
      "cell_type": "markdown",
      "source": [
        "Instead of the $|0⟩$ state, let's look at what happens if we apply the $H$ gate on the $|1⟩$ state instead.\n",
        "\n",
        "$H|1⟩ = \\frac{1}{\\sqrt{2}} \\begin{bmatrix} |0⟩ -|1⟩  \\end{bmatrix}$\n",
        "\n",
        "While there is a phase shift of -1 on the $|1⟩$ state, the probability of measuring each state is\n",
        "\n",
        "$P(|0⟩) = (\\frac{1}{\\sqrt{2}})^2 = \\frac{1}{2}$\n",
        "\n",
        "$P(|1⟩) = (-\\frac{1}{\\sqrt{2}})^2 = \\frac{1}{2}$\n",
        "\n",
        "This is the same probability as applying the $H$ gate on the $|0⟩$ state. These special states are known as $|+⟩$ and $|-⟩$ states.\n",
        "\n",
        "$|+⟩ = H|0⟩ = \\frac{1}{\\sqrt{2}} (|0⟩ + |1⟩)$\n",
        "\n",
        "$|-⟩ = H|1⟩ = \\frac{1}{\\sqrt{2}} (|0⟩ - |1⟩)$"
      ],
      "metadata": {
        "id": "nqrDLGwEnoMi"
      }
    },
    {
      "cell_type": "markdown",
      "source": [
        "# Exercise 4\n",
        "\n",
        "create the $|+⟩$ and the $|-⟩$ states and measure their probabilities with Qibo"
      ],
      "metadata": {
        "id": "zIPjze05pY9g"
      }
    },
    {
      "cell_type": "code",
      "source": [
        "from qibo import gates, Circuit\n",
        "\n",
        "circ = Circuit(1)\n",
        "xgate = gates.X(0)\n",
        "hadamard_gate = gates.H(0)\n",
        "measure_gate = gates.M(0)\n",
        "\n",
        "# Gate Setup\n",
        "circ.add(xgate)\n",
        "circ.add(hadamard_gate)\n",
        "circ.add(measure_gate)\n",
        "\n",
        "print(circ.draw())\n",
        "results = circ(nshots=100)\n",
        "\n",
        "print(\"P(|0>):\", round(results.probabilities()[0], 3))\n",
        "print(\"P(|1>):\", round(results.probabilities()[1], 3))"
      ],
      "metadata": {
        "colab": {
          "base_uri": "https://localhost:8080/"
        },
        "id": "WHCRWeWpp8RA",
        "outputId": "11e6b1e3-73ae-46e1-eba4-88a4cb56116c"
      },
      "execution_count": 12,
      "outputs": [
        {
          "output_type": "stream",
          "name": "stdout",
          "text": [
            "q0: ─X─H─M─\n",
            "P(|0>): tf.Tensor(0.5, shape=(), dtype=float64)\n",
            "P(|1>): tf.Tensor(0.5, shape=(), dtype=float64)\n"
          ]
        }
      ]
    },
    {
      "cell_type": "markdown",
      "source": [
        "# Measurement in different bases\n",
        "\n",
        "We know from the mathematics that the $|+⟩$ and $|-⟩$ states are different, yet the measurement returns the same state probabilities for both. How do differentiate the two states?\n",
        "\n",
        "For this, we turn back to the $H$ gate. As we've seen, it turns $|0⟩$ to $|+⟩$ and $|1⟩$ to $|-⟩$.\n",
        "\n",
        "However, the reverse is also true (the proof is left to the reader as a trivial exercise).\n",
        "\n",
        "This lets us map $|+⟩$ to $|0⟩$ and $|-⟩$ to $|1⟩$."
      ],
      "metadata": {
        "id": "LvaN0TjLqRv_"
      }
    },
    {
      "cell_type": "code",
      "source": [
        "from qibo import gates, Circuit\n",
        "import numpy as np\n",
        "\n",
        "plus_state = np.array([1, 1]) / np.sqrt(2)\n",
        "minus_state = np.array([1, -1]) / np.sqrt(2)\n",
        "\n",
        "circ = Circuit(1)\n",
        "hadamard_gate = gates.H(0)\n",
        "measure_gate = gates.M(0)\n",
        "\n",
        "results = circ(nshots=100, initial_state=plus_state)\n",
        "print(\"|+>\")\n",
        "print(\"P(|0>):\", round(results.probabilities()[0], 3))\n",
        "print(\"P(|1>):\", round(results.probabilities()[1], 3))\n",
        "print()\n",
        "results = circ(nshots=100, initial_state=minus_state)\n",
        "print(\"|->\")\n",
        "print(\"P(|0>):\", round(results.probabilities()[0], 3))\n",
        "print(\"P(|1>):\", round(results.probabilities()[1], 3))"
      ],
      "metadata": {
        "colab": {
          "base_uri": "https://localhost:8080/"
        },
        "id": "uhe28dvyrCTL",
        "outputId": "6b592a20-5ae7-413a-8b4d-05d0b728fd41"
      },
      "execution_count": 14,
      "outputs": [
        {
          "output_type": "stream",
          "name": "stdout",
          "text": [
            "|+>\n",
            "P(|0>): tf.Tensor(0.5, shape=(), dtype=float64)\n",
            "P(|1>): tf.Tensor(0.5, shape=(), dtype=float64)\n",
            "\n",
            "|->\n",
            "P(|0>): tf.Tensor(0.5, shape=(), dtype=float64)\n",
            "P(|1>): tf.Tensor(0.5, shape=(), dtype=float64)\n"
          ]
        }
      ]
    },
    {
      "cell_type": "markdown",
      "source": [
        "With the Hadamard gate, we transform the measurement basis from  to \\{ ${|0⟩, |1⟩}$ \\}. This is a unique property that differentiates quantum computing from classical computing.\n",
        "\n",
        "Next we will close the first part with a primer on other single qubit gates.\n"
      ],
      "metadata": {
        "id": "zwBhdDgbr6Ld"
      }
    },
    {
      "cell_type": "markdown",
      "source": [
        "# Typical Single Qubit Gates\n",
        "\n",
        "For part 1, we have covered the $X$ and $H$ gates\n",
        "\n",
        "$X = \\begin{bmatrix} 0 & 1 \\\\ 1 & 0 \\end{bmatrix}$\n",
        "\n",
        "$H = \\frac{1}{\\sqrt{2}}\\begin{bmatrix} 1 & 1 \\\\ 1 & -1 \\end{bmatrix}$\n",
        "\n",
        "We also have the $Y$ gate. It is very similar to the $X$ gate in switching the $|0⟩$ state and the $|1⟩$ state.\n",
        "\n",
        "$Y = \\begin{bmatrix} 0 & -i \\\\ i & 0 \\end{bmatrix}$\n",
        "\n",
        "It also applies a phase shift of $i$ on the new $|1⟩$ state. Much like the Hadamard gate, these phases cannot be measured in the \\{ ${|0⟩, |1⟩}$ \\} basis.\n",
        "\n",
        "On the first glace, the $Z$ gate appears very similar to the identity matrix/gate.\n",
        "\n",
        "$Z = \\begin{bmatrix} 1 & 0 \\\\ 0 & -1 \\end{bmatrix}$\n",
        "\n",
        "The difference is that it applies a phase shift of -1 on the $|1⟩$ state."
      ],
      "metadata": {
        "id": "DKQr06HWs7U9"
      }
    }
  ]
}